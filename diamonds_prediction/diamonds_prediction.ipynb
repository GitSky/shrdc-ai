{
  "nbformat": 4,
  "nbformat_minor": 0,
  "metadata": {
    "colab": {
      "name": "diamonds.ipynb",
      "provenance": [],
      "collapsed_sections": []
    },
    "kernelspec": {
      "name": "python3",
      "display_name": "Python 3"
    },
    "language_info": {
      "name": "python"
    }
  },
  "cells": [
    {
      "cell_type": "code",
      "execution_count": 3,
      "metadata": {
        "id": "CEsdkrK73bNI"
      },
      "outputs": [],
      "source": [
        "import numpy as np\n",
        "import pandas as pd\n",
        "from matplotlib import pyplot as plt\n",
        "\n",
        "from sklearn import preprocessing\n",
        "from sklearn.model_selection import train_test_split\n",
        "from sklearn.preprocessing import StandardScaler, OrdinalEncoder\n",
        "\n",
        "import tensorflow as tf"
      ]
    },
    {
      "cell_type": "code",
      "source": [
        "# access Google Drive\n",
        "from google.colab import drive\n",
        "drive.mount('/content/gdrive')\n",
        "\n",
        "%cd gdrive/MyDrive/'Colab Notebooks'/"
      ],
      "metadata": {
        "colab": {
          "base_uri": "https://localhost:8080/"
        },
        "id": "kY-jbJpc8v6g",
        "outputId": "a6aad1c8-a75a-41e4-bab0-180ead07b693"
      },
      "execution_count": 4,
      "outputs": [
        {
          "output_type": "stream",
          "name": "stdout",
          "text": [
            "Mounted at /content/gdrive\n",
            "/content/gdrive/MyDrive/Colab Notebooks\n"
          ]
        }
      ]
    },
    {
      "cell_type": "code",
      "source": [
        "# load dataset from Google Drive\n",
        "dm_data = pd.read_csv(r'diamonds.csv')\n",
        "\n",
        "# drop unnamed columns\n",
        "dm_data = dm_data.drop('Unnamed: 0', axis=1)\n",
        "print(dm_data.head())"
      ],
      "metadata": {
        "colab": {
          "base_uri": "https://localhost:8080/"
        },
        "id": "J0_WpXrq9irv",
        "outputId": "b8f6bb5e-1bb5-4d91-faae-40ea077993aa"
      },
      "execution_count": 5,
      "outputs": [
        {
          "output_type": "stream",
          "name": "stdout",
          "text": [
            "   carat      cut color clarity  depth  table  price     x     y     z\n",
            "0   0.23    Ideal     E     SI2   61.5   55.0    326  3.95  3.98  2.43\n",
            "1   0.21  Premium     E     SI1   59.8   61.0    326  3.89  3.84  2.31\n",
            "2   0.23     Good     E     VS1   56.9   65.0    327  4.05  4.07  2.31\n",
            "3   0.29  Premium     I     VS2   62.4   58.0    334  4.20  4.23  2.63\n",
            "4   0.31     Good     J     SI2   63.3   58.0    335  4.34  4.35  2.75\n"
          ]
        }
      ]
    },
    {
      "cell_type": "code",
      "source": [
        "# extract features and labels\n",
        "features = dm_data.drop('price', axis=1)\n",
        "labels = dm_data.price\n",
        "\n",
        "print(features.head())\n",
        "print(labels.head())"
      ],
      "metadata": {
        "colab": {
          "base_uri": "https://localhost:8080/"
        },
        "id": "c05wgrkUAK9a",
        "outputId": "80cd3285-1974-4754-ab05-2eabc8730af7"
      },
      "execution_count": 6,
      "outputs": [
        {
          "output_type": "stream",
          "name": "stdout",
          "text": [
            "   carat      cut color clarity  depth  table     x     y     z\n",
            "0   0.23    Ideal     E     SI2   61.5   55.0  3.95  3.98  2.43\n",
            "1   0.21  Premium     E     SI1   59.8   61.0  3.89  3.84  2.31\n",
            "2   0.23     Good     E     VS1   56.9   65.0  4.05  4.07  2.31\n",
            "3   0.29  Premium     I     VS2   62.4   58.0  4.20  4.23  2.63\n",
            "4   0.31     Good     J     SI2   63.3   58.0  4.34  4.35  2.75\n",
            "0    326\n",
            "1    326\n",
            "2    327\n",
            "3    334\n",
            "4    335\n",
            "Name: price, dtype: int64\n"
          ]
        }
      ]
    },
    {
      "cell_type": "code",
      "source": [
        "# Ordinal encode categorical features\n",
        "cut_categories = ['Fair','Good','Very Good','Premium','Ideal']\n",
        "color_categories = ['J','I','H','G','F','E','D']\n",
        "clarity_categories = ['I1','SI2','SI1','VS2','VS1','VVS2','VVS1','IF']\n",
        "ordinal_encoder = OrdinalEncoder(categories=[cut_categories,color_categories,clarity_categories])\n",
        "features[['cut','color','clarity']] = ordinal_encoder.fit_transform(features[['cut','color','clarity']])\n",
        "\n",
        "print(\"Transformed Features:\")\n",
        "print(features.head())"
      ],
      "metadata": {
        "id": "som_ieGLF11K",
        "colab": {
          "base_uri": "https://localhost:8080/"
        },
        "outputId": "7b5f19a1-0874-455f-c807-b2f441f9a4d2"
      },
      "execution_count": 8,
      "outputs": [
        {
          "output_type": "stream",
          "name": "stdout",
          "text": [
            "Transformed Features:\n",
            "   carat  cut  color  clarity  depth  table     x     y     z\n",
            "0   0.23  4.0    5.0      1.0   61.5   55.0  3.95  3.98  2.43\n",
            "1   0.21  3.0    5.0      2.0   59.8   61.0  3.89  3.84  2.31\n",
            "2   0.23  1.0    5.0      4.0   56.9   65.0  4.05  4.07  2.31\n",
            "3   0.29  3.0    1.0      3.0   62.4   58.0  4.20  4.23  2.63\n",
            "4   0.31  1.0    0.0      1.0   63.3   58.0  4.34  4.35  2.75\n"
          ]
        }
      ]
    },
    {
      "cell_type": "code",
      "source": [
        "# Split the data into train-validation-test sets, with a ratio of 60:20:20\n",
        "\n",
        "SEED = 12345\n",
        "x_train,x_iter,y_train,y_iter = train_test_split(features, labels, test_size=0.4, random_state=SEED)\n",
        "x_val,x_test,y_val,y_test = train_test_split(x_iter, y_iter, test_size=0.5, random_state=SEED)"
      ],
      "metadata": {
        "id": "3Kwc27ojwKae"
      },
      "execution_count": 9,
      "outputs": []
    },
    {
      "cell_type": "code",
      "source": [
        "# Perform feature scaling, using training data for fitting\n",
        "standard_scaler = StandardScaler()\n",
        "standard_scaler.fit(x_train)\n",
        "x_train = standard_scaler.transform(x_train)\n",
        "x_val = standard_scaler.transform(x_val)\n",
        "x_test = standard_scaler.transform(x_test)\n",
        "\n",
        "#Data preparation completed"
      ],
      "metadata": {
        "id": "RnvtKFeVwXwz"
      },
      "execution_count": 10,
      "outputs": []
    },
    {
      "cell_type": "code",
      "source": [
        "# Create a feedforward neural network using TensorFlow Keras\n",
        "number_input = x_train.shape[-1]\n",
        "model = tf.keras.Sequential()\n",
        "model.add(tf.keras.layers.InputLayer(input_shape=number_input))\n",
        "model.add(tf.keras.layers.Dense(128,activation='elu'))\n",
        "model.add(tf.keras.layers.Dense(64,activation='elu'))\n",
        "model.add(tf.keras.layers.Dense(32,activation='elu'))\n",
        "model.add(tf.keras.layers.Dropout(0.3))\n",
        "model.add(tf.keras.layers.Dense(1))\n",
        "\n",
        "# Compile the model\n",
        "model.compile(optimizer='adam',loss='mse',metrics=['mae','mse'])"
      ],
      "metadata": {
        "id": "7eGkX-ZlwfOJ"
      },
      "execution_count": 11,
      "outputs": []
    },
    {
      "cell_type": "code",
      "source": [
        "# Train and evaluate the model with validation data\n",
        "# Define callback functions: EarlyStopping and Tensorboard\n",
        "\n",
        "import datetime\n",
        "import os\n",
        "\n",
        "base_log_path = r\"Tensorboard\\log_diamonds\"\n",
        "log_path = os.path.join(base_log_path, datetime.datetime.now().strftime(\"%Y%m%d-%H%M%S\"))\n",
        "tb_callback = tf.keras.callbacks.TensorBoard(log_dir=log_path)\n",
        "es_callback = tf.keras.callbacks.EarlyStopping(monitor='val_loss',patience=5,verbose=2)\n",
        "EPOCHS = 100\n",
        "BATCH_SIZE=64\n",
        "history = model.fit(x_train,y_train,validation_data=(x_val,y_val),batch_size=BATCH_SIZE,epochs=EPOCHS,callbacks=[tb_callback,es_callback])"
      ],
      "metadata": {
        "colab": {
          "base_uri": "https://localhost:8080/"
        },
        "id": "yc1EQdwFwpYU",
        "outputId": "f6e8e2b8-47aa-4a74-d33a-71f4b84a5da0"
      },
      "execution_count": 12,
      "outputs": [
        {
          "output_type": "stream",
          "name": "stdout",
          "text": [
            "Epoch 1/100\n",
            "506/506 [==============================] - 3s 4ms/step - loss: 14151212.0000 - mae: 2422.1072 - mse: 14151212.0000 - val_loss: 2329516.7500 - val_mae: 1092.0780 - val_mse: 2329516.7500\n",
            "Epoch 2/100\n",
            "506/506 [==============================] - 2s 3ms/step - loss: 2908448.0000 - mae: 1166.2336 - mse: 2908448.0000 - val_loss: 1628396.8750 - val_mae: 778.0931 - val_mse: 1628396.8750\n",
            "Epoch 3/100\n",
            "506/506 [==============================] - 1s 3ms/step - loss: 2643002.0000 - mae: 1045.0315 - mse: 2643002.0000 - val_loss: 1532252.8750 - val_mae: 711.3580 - val_mse: 1532252.8750\n",
            "Epoch 4/100\n",
            "506/506 [==============================] - 2s 3ms/step - loss: 2506765.5000 - mae: 987.8422 - mse: 2506765.5000 - val_loss: 1474773.3750 - val_mae: 665.7302 - val_mse: 1474773.3750\n",
            "Epoch 5/100\n",
            "506/506 [==============================] - 2s 3ms/step - loss: 2405234.7500 - mae: 948.8184 - mse: 2405234.7500 - val_loss: 1332533.0000 - val_mae: 617.8030 - val_mse: 1332533.0000\n",
            "Epoch 6/100\n",
            "506/506 [==============================] - 2s 3ms/step - loss: 2324961.0000 - mae: 931.8087 - mse: 2324961.0000 - val_loss: 1212088.6250 - val_mae: 595.3433 - val_mse: 1212088.6250\n",
            "Epoch 7/100\n",
            "506/506 [==============================] - 1s 3ms/step - loss: 2299502.2500 - mae: 920.5190 - mse: 2299502.2500 - val_loss: 1140968.1250 - val_mae: 588.7426 - val_mse: 1140968.1250\n",
            "Epoch 8/100\n",
            "506/506 [==============================] - 1s 3ms/step - loss: 2183397.5000 - mae: 905.2682 - mse: 2183397.5000 - val_loss: 1099633.0000 - val_mae: 578.6871 - val_mse: 1099633.0000\n",
            "Epoch 9/100\n",
            "506/506 [==============================] - 1s 3ms/step - loss: 2187431.2500 - mae: 897.0959 - mse: 2187431.2500 - val_loss: 1068769.8750 - val_mae: 568.2189 - val_mse: 1068769.8750\n",
            "Epoch 10/100\n",
            "506/506 [==============================] - 1s 3ms/step - loss: 2161665.5000 - mae: 889.6292 - mse: 2161665.5000 - val_loss: 1076461.2500 - val_mae: 553.1127 - val_mse: 1076461.2500\n",
            "Epoch 11/100\n",
            "506/506 [==============================] - 1s 3ms/step - loss: 2185826.5000 - mae: 887.0285 - mse: 2185826.5000 - val_loss: 1043030.5625 - val_mae: 563.6816 - val_mse: 1043030.5625\n",
            "Epoch 12/100\n",
            "506/506 [==============================] - 1s 3ms/step - loss: 2150949.7500 - mae: 877.0955 - mse: 2150949.7500 - val_loss: 927004.0000 - val_mae: 520.2892 - val_mse: 927004.0000\n",
            "Epoch 13/100\n",
            "506/506 [==============================] - 1s 3ms/step - loss: 2073443.7500 - mae: 860.9235 - mse: 2073443.7500 - val_loss: 911095.3750 - val_mae: 506.7111 - val_mse: 911095.3750\n",
            "Epoch 14/100\n",
            "506/506 [==============================] - 1s 3ms/step - loss: 2015504.8750 - mae: 842.9762 - mse: 2015504.8750 - val_loss: 902207.8125 - val_mae: 511.9967 - val_mse: 902207.8125\n",
            "Epoch 15/100\n",
            "506/506 [==============================] - 1s 3ms/step - loss: 1979979.3750 - mae: 829.3797 - mse: 1979979.3750 - val_loss: 854416.2500 - val_mae: 493.2771 - val_mse: 854416.2500\n",
            "Epoch 16/100\n",
            "506/506 [==============================] - 1s 3ms/step - loss: 1961583.8750 - mae: 822.7945 - mse: 1961583.8750 - val_loss: 834597.6875 - val_mae: 486.3500 - val_mse: 834597.6875\n",
            "Epoch 17/100\n",
            "506/506 [==============================] - 2s 3ms/step - loss: 1984859.5000 - mae: 815.5629 - mse: 1984859.5000 - val_loss: 775729.1875 - val_mae: 450.4203 - val_mse: 775729.1875\n",
            "Epoch 18/100\n",
            "506/506 [==============================] - 1s 3ms/step - loss: 1953261.6250 - mae: 804.9932 - mse: 1953261.6250 - val_loss: 757011.2500 - val_mae: 455.2005 - val_mse: 757011.2500\n",
            "Epoch 19/100\n",
            "506/506 [==============================] - 2s 3ms/step - loss: 1880980.0000 - mae: 789.2635 - mse: 1880980.0000 - val_loss: 731093.6875 - val_mae: 430.7891 - val_mse: 731093.6875\n",
            "Epoch 20/100\n",
            "506/506 [==============================] - 1s 3ms/step - loss: 1848638.0000 - mae: 785.9578 - mse: 1848638.0000 - val_loss: 726393.8125 - val_mae: 431.9265 - val_mse: 726393.8125\n",
            "Epoch 21/100\n",
            "506/506 [==============================] - 2s 3ms/step - loss: 1882222.0000 - mae: 782.5741 - mse: 1882222.0000 - val_loss: 733460.6875 - val_mae: 432.3199 - val_mse: 733460.6875\n",
            "Epoch 22/100\n",
            "506/506 [==============================] - 1s 3ms/step - loss: 1829865.3750 - mae: 774.4429 - mse: 1829865.3750 - val_loss: 702041.5000 - val_mae: 406.1396 - val_mse: 702041.5000\n",
            "Epoch 23/100\n",
            "506/506 [==============================] - 2s 3ms/step - loss: 1868912.0000 - mae: 772.4261 - mse: 1868912.0000 - val_loss: 738834.0000 - val_mae: 428.2888 - val_mse: 738834.0000\n",
            "Epoch 24/100\n",
            "506/506 [==============================] - 1s 3ms/step - loss: 1803193.3750 - mae: 763.2192 - mse: 1803193.3750 - val_loss: 790059.8125 - val_mae: 403.0698 - val_mse: 790059.8125\n",
            "Epoch 25/100\n",
            "506/506 [==============================] - 1s 3ms/step - loss: 1867898.6250 - mae: 769.0351 - mse: 1867898.6250 - val_loss: 737880.8125 - val_mae: 378.2127 - val_mse: 737880.8125\n",
            "Epoch 26/100\n",
            "506/506 [==============================] - 2s 3ms/step - loss: 1815880.6250 - mae: 767.8868 - mse: 1815880.6250 - val_loss: 780298.8125 - val_mae: 422.5463 - val_mse: 780298.8125\n",
            "Epoch 27/100\n",
            "506/506 [==============================] - 2s 3ms/step - loss: 1779481.3750 - mae: 754.0812 - mse: 1779481.3750 - val_loss: 817305.1875 - val_mae: 371.8775 - val_mse: 817305.1875\n",
            "Epoch 27: early stopping\n"
          ]
        }
      ]
    },
    {
      "cell_type": "code",
      "source": [
        "# Evaluate with test data for wild testing\n",
        "test_result = model.evaluate(x_test,y_test,batch_size=BATCH_SIZE)\n",
        "print(f\"Test loss = {test_result[0]}\")\n",
        "print(f\"Test MAE = {test_result[1]}\")\n",
        "print(f\"Test MSE = {test_result[2]}\")"
      ],
      "metadata": {
        "colab": {
          "base_uri": "https://localhost:8080/"
        },
        "id": "4WkBTso7yJnA",
        "outputId": "86c57750-bec8-4b9a-b711-379643291dd8"
      },
      "execution_count": 13,
      "outputs": [
        {
          "output_type": "stream",
          "name": "stdout",
          "text": [
            "169/169 [==============================] - 0s 1ms/step - loss: 603971.5625 - mae: 362.7646 - mse: 603971.5625\n",
            "Test loss = 603971.5625\n",
            "Test MAE = 362.7646179199219\n",
            "Test MSE = 603971.5625\n"
          ]
        }
      ]
    },
    {
      "cell_type": "code",
      "source": [
        "# Plot a graph of prediction vs label on test data\n",
        "\n",
        "predictions = np.squeeze(model.predict(x_test))\n",
        "labels = np.squeeze(y_test)\n",
        "plt.plot(predictions,labels,\".\")\n",
        "plt.xlabel(\"Predictions\")\n",
        "plt.ylabel(\"Labels\")\n",
        "plt.title(\"Graph of Predictions vs Labels with Test Data\")\n",
        "plt.savefig('result.png', bbox_inches='tight')\n",
        "plt.show()"
      ],
      "metadata": {
        "colab": {
          "base_uri": "https://localhost:8080/",
          "height": 295
        },
        "id": "NQ-ex8Oz0zuz",
        "outputId": "9b5b3928-ce85-461f-d6f1-a52c2a657fe7"
      },
      "execution_count": 19,
      "outputs": [
        {
          "output_type": "display_data",
          "data": {
            "text/plain": [
              "<Figure size 432x288 with 1 Axes>"
            ],
            "image/png": "[encoded data removed]"
          },
          "metadata": {
            "needs_background": "light"
          }
        }
      ]
    }
  ]
}