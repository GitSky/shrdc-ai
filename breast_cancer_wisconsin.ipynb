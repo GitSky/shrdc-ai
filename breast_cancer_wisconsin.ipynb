{
  "nbformat": 4,
  "nbformat_minor": 0,
  "metadata": {
    "colab": {
      "name": "breast_cancer_wisconsin.ipynb",
      "provenance": []
    },
    "kernelspec": {
      "name": "python3",
      "display_name": "Python 3"
    },
    "language_info": {
      "name": "python"
    }
  },
  "cells": [
    {
      "cell_type": "code",
      "execution_count": null,
      "metadata": {
        "id": "CEsdkrK73bNI"
      },
      "outputs": [],
      "source": [
        "import numpy as np\n",
        "import pandas as pd\n",
        "from matplotlib import pyplot as plt\n",
        "\n",
        "from sklearn import preprocessing\n",
        "from sklearn.model_selection import train_test_split\n",
        "\n",
        "import tensorflow as tf"
      ]
    },
    {
      "cell_type": "code",
      "source": [
        "# access Google Drive\n",
        "from google.colab import drive\n",
        "drive.mount('/content/gdrive')\n",
        "\n",
        "%cd gdrive/MyDrive/'Colab Notebooks'/"
      ],
      "metadata": {
        "colab": {
          "base_uri": "https://localhost:8080/"
        },
        "id": "kY-jbJpc8v6g",
        "outputId": "7b839116-a61c-4893-85a0-f43f7e612554"
      },
      "execution_count": null,
      "outputs": [
        {
          "output_type": "stream",
          "name": "stdout",
          "text": [
            "Drive already mounted at /content/gdrive; to attempt to forcibly remount, call drive.mount(\"/content/gdrive\", force_remount=True).\n",
            "[Errno 2] No such file or directory: 'gdrive/MyDrive/Colab Notebooks/'\n",
            "/content/gdrive/MyDrive/Colab Notebooks\n"
          ]
        }
      ]
    },
    {
      "cell_type": "code",
      "source": [
        "# load dataset from Google Drive\n",
        "bc_data = pd.read_csv(r'breast_cancer_wisconsin.csv')\n",
        "\n",
        "# drop unnamed columns\n",
        "bc_data = bc_data.drop(['id','Unnamed: 32'], axis=1)\n",
        "print(bc_data.head())"
      ],
      "metadata": {
        "colab": {
          "base_uri": "https://localhost:8080/"
        },
        "id": "J0_WpXrq9irv",
        "outputId": "baa6baf2-6353-4a54-f28b-f09341be0027"
      },
      "execution_count": null,
      "outputs": [
        {
          "output_type": "stream",
          "name": "stdout",
          "text": [
            "  diagnosis  radius_mean  texture_mean  perimeter_mean  area_mean  \\\n",
            "0         M        17.99         10.38          122.80     1001.0   \n",
            "1         M        20.57         17.77          132.90     1326.0   \n",
            "2         M        19.69         21.25          130.00     1203.0   \n",
            "3         M        11.42         20.38           77.58      386.1   \n",
            "4         M        20.29         14.34          135.10     1297.0   \n",
            "\n",
            "   smoothness_mean  compactness_mean  concavity_mean  concave points_mean  \\\n",
            "0          0.11840           0.27760          0.3001              0.14710   \n",
            "1          0.08474           0.07864          0.0869              0.07017   \n",
            "2          0.10960           0.15990          0.1974              0.12790   \n",
            "3          0.14250           0.28390          0.2414              0.10520   \n",
            "4          0.10030           0.13280          0.1980              0.10430   \n",
            "\n",
            "   symmetry_mean  ...  radius_worst  texture_worst  perimeter_worst  \\\n",
            "0         0.2419  ...         25.38          17.33           184.60   \n",
            "1         0.1812  ...         24.99          23.41           158.80   \n",
            "2         0.2069  ...         23.57          25.53           152.50   \n",
            "3         0.2597  ...         14.91          26.50            98.87   \n",
            "4         0.1809  ...         22.54          16.67           152.20   \n",
            "\n",
            "   area_worst  smoothness_worst  compactness_worst  concavity_worst  \\\n",
            "0      2019.0            0.1622             0.6656           0.7119   \n",
            "1      1956.0            0.1238             0.1866           0.2416   \n",
            "2      1709.0            0.1444             0.4245           0.4504   \n",
            "3       567.7            0.2098             0.8663           0.6869   \n",
            "4      1575.0            0.1374             0.2050           0.4000   \n",
            "\n",
            "   concave points_worst  symmetry_worst  fractal_dimension_worst  \n",
            "0                0.2654          0.4601                  0.11890  \n",
            "1                0.1860          0.2750                  0.08902  \n",
            "2                0.2430          0.3613                  0.08758  \n",
            "3                0.2575          0.6638                  0.17300  \n",
            "4                0.1625          0.2364                  0.07678  \n",
            "\n",
            "[5 rows x 31 columns]\n"
          ]
        }
      ]
    },
    {
      "cell_type": "code",
      "source": [
        "# extract features and labels\n",
        "features = bc_data.drop('diagnosis', axis=1)\n",
        "labels = bc_data.diagnosis.replace({'B': 0, 'M': 1})\n",
        "\n",
        "print(features.head())\n",
        "print(labels.head())"
      ],
      "metadata": {
        "colab": {
          "base_uri": "https://localhost:8080/"
        },
        "id": "c05wgrkUAK9a",
        "outputId": "65ea0885-d4ea-4fc5-aa49-fdd94b5e2e09"
      },
      "execution_count": null,
      "outputs": [
        {
          "output_type": "stream",
          "name": "stdout",
          "text": [
            "   radius_mean  texture_mean  perimeter_mean  area_mean  smoothness_mean  \\\n",
            "0        17.99         10.38          122.80     1001.0          0.11840   \n",
            "1        20.57         17.77          132.90     1326.0          0.08474   \n",
            "2        19.69         21.25          130.00     1203.0          0.10960   \n",
            "3        11.42         20.38           77.58      386.1          0.14250   \n",
            "4        20.29         14.34          135.10     1297.0          0.10030   \n",
            "\n",
            "   compactness_mean  concavity_mean  concave points_mean  symmetry_mean  \\\n",
            "0           0.27760          0.3001              0.14710         0.2419   \n",
            "1           0.07864          0.0869              0.07017         0.1812   \n",
            "2           0.15990          0.1974              0.12790         0.2069   \n",
            "3           0.28390          0.2414              0.10520         0.2597   \n",
            "4           0.13280          0.1980              0.10430         0.1809   \n",
            "\n",
            "   fractal_dimension_mean  ...  radius_worst  texture_worst  perimeter_worst  \\\n",
            "0                 0.07871  ...         25.38          17.33           184.60   \n",
            "1                 0.05667  ...         24.99          23.41           158.80   \n",
            "2                 0.05999  ...         23.57          25.53           152.50   \n",
            "3                 0.09744  ...         14.91          26.50            98.87   \n",
            "4                 0.05883  ...         22.54          16.67           152.20   \n",
            "\n",
            "   area_worst  smoothness_worst  compactness_worst  concavity_worst  \\\n",
            "0      2019.0            0.1622             0.6656           0.7119   \n",
            "1      1956.0            0.1238             0.1866           0.2416   \n",
            "2      1709.0            0.1444             0.4245           0.4504   \n",
            "3       567.7            0.2098             0.8663           0.6869   \n",
            "4      1575.0            0.1374             0.2050           0.4000   \n",
            "\n",
            "   concave points_worst  symmetry_worst  fractal_dimension_worst  \n",
            "0                0.2654          0.4601                  0.11890  \n",
            "1                0.1860          0.2750                  0.08902  \n",
            "2                0.2430          0.3613                  0.08758  \n",
            "3                0.2575          0.6638                  0.17300  \n",
            "4                0.1625          0.2364                  0.07678  \n",
            "\n",
            "[5 rows x 30 columns]\n",
            "0    1\n",
            "1    1\n",
            "2    1\n",
            "3    1\n",
            "4    1\n",
            "Name: diagnosis, dtype: int64\n"
          ]
        }
      ]
    },
    {
      "cell_type": "code",
      "source": [
        "from sklearn.preprocessing import StandardScaler\n",
        "\n",
        "SEED = 12345\n",
        "X_train, X_test, y_train, y_test = train_test_split(features, labels, test_size=0.3, random_state=SEED)\n",
        "\n",
        "scaler = StandardScaler()\n",
        "X_train = scaler.fit_transform(X_train)\n",
        "X_test = scaler.transform(X_test)"
      ],
      "metadata": {
        "id": "som_ieGLF11K"
      },
      "execution_count": null,
      "outputs": []
    },
    {
      "cell_type": "code",
      "source": [
        "nClass = len(np.unique(y_test))\n",
        "\n",
        "model = tf.keras.Sequential()\n",
        "model.add(tf.keras.layers.Input(shape=(features.shape[1],)))\n",
        "model.add(tf.keras.layers.Dense(64, activation='sigmoid'))\n",
        "model.add(tf.keras.layers.Dense(32, activation='sigmoid'))\n",
        "model.add(tf.keras.layers.Dense(nClass, activation='sigmoid'))\n",
        "# model.add(tf.keras.layers.Dense(1, activation='sigmoid'))\n",
        "model.compile(optimizer='adam',\n",
        "              loss='sparse_categorical_crossentropy',\n",
        "              metrics=['accuracy'],)\n",
        "\n",
        "model.summary()\n",
        "tf.keras.utils.plot_model(model)\n",
        "history = model.fit(X_train, y_train, validation_data=(X_test, y_test), batch_size=16, epochs=25)"
      ],
      "metadata": {
        "colab": {
          "base_uri": "https://localhost:8080/"
        },
        "id": "K0oqoW_7F5eT",
        "outputId": "bd22f651-44df-4ac9-d7f2-a89e3e8f006e"
      },
      "execution_count": null,
      "outputs": [
        {
          "output_type": "stream",
          "name": "stdout",
          "text": [
            "Model: \"sequential\"\n",
            "_________________________________________________________________\n",
            " Layer (type)                Output Shape              Param #   \n",
            "=================================================================\n",
            " dense (Dense)               (None, 64)                1984      \n",
            "                                                                 \n",
            " dense_1 (Dense)             (None, 32)                2080      \n",
            "                                                                 \n",
            " dense_2 (Dense)             (None, 2)                 66        \n",
            "                                                                 \n",
            "=================================================================\n",
            "Total params: 4,130\n",
            "Trainable params: 4,130\n",
            "Non-trainable params: 0\n",
            "_________________________________________________________________\n",
            "Epoch 1/25\n",
            "25/25 [==============================] - 1s 10ms/step - loss: 0.5697 - accuracy: 0.6960 - val_loss: 0.5022 - val_accuracy: 0.8421\n",
            "Epoch 2/25\n",
            "25/25 [==============================] - 0s 3ms/step - loss: 0.4216 - accuracy: 0.9095 - val_loss: 0.3735 - val_accuracy: 0.8947\n",
            "Epoch 3/25\n",
            "25/25 [==============================] - 0s 3ms/step - loss: 0.2931 - accuracy: 0.9422 - val_loss: 0.2778 - val_accuracy: 0.9181\n",
            "Epoch 4/25\n",
            "25/25 [==============================] - 0s 3ms/step - loss: 0.2068 - accuracy: 0.9472 - val_loss: 0.2206 - val_accuracy: 0.9181\n",
            "Epoch 5/25\n",
            "25/25 [==============================] - 0s 3ms/step - loss: 0.1582 - accuracy: 0.9548 - val_loss: 0.1790 - val_accuracy: 0.9240\n",
            "Epoch 6/25\n",
            "25/25 [==============================] - 0s 3ms/step - loss: 0.1278 - accuracy: 0.9598 - val_loss: 0.1520 - val_accuracy: 0.9591\n",
            "Epoch 7/25\n",
            "25/25 [==============================] - 0s 4ms/step - loss: 0.1090 - accuracy: 0.9724 - val_loss: 0.1327 - val_accuracy: 0.9708\n",
            "Epoch 8/25\n",
            "25/25 [==============================] - 0s 3ms/step - loss: 0.0948 - accuracy: 0.9749 - val_loss: 0.1197 - val_accuracy: 0.9649\n",
            "Epoch 9/25\n",
            "25/25 [==============================] - 0s 3ms/step - loss: 0.0853 - accuracy: 0.9799 - val_loss: 0.1107 - val_accuracy: 0.9708\n",
            "Epoch 10/25\n",
            "25/25 [==============================] - 0s 3ms/step - loss: 0.0780 - accuracy: 0.9824 - val_loss: 0.1035 - val_accuracy: 0.9766\n",
            "Epoch 11/25\n",
            "25/25 [==============================] - 0s 3ms/step - loss: 0.0726 - accuracy: 0.9849 - val_loss: 0.0992 - val_accuracy: 0.9766\n",
            "Epoch 12/25\n",
            "25/25 [==============================] - 0s 3ms/step - loss: 0.0679 - accuracy: 0.9874 - val_loss: 0.0958 - val_accuracy: 0.9766\n",
            "Epoch 13/25\n",
            "25/25 [==============================] - 0s 3ms/step - loss: 0.0651 - accuracy: 0.9899 - val_loss: 0.0937 - val_accuracy: 0.9766\n",
            "Epoch 14/25\n",
            "25/25 [==============================] - 0s 3ms/step - loss: 0.0627 - accuracy: 0.9849 - val_loss: 0.0929 - val_accuracy: 0.9708\n",
            "Epoch 15/25\n",
            "25/25 [==============================] - 0s 3ms/step - loss: 0.0597 - accuracy: 0.9899 - val_loss: 0.0922 - val_accuracy: 0.9708\n",
            "Epoch 16/25\n",
            "25/25 [==============================] - 0s 3ms/step - loss: 0.0567 - accuracy: 0.9874 - val_loss: 0.0919 - val_accuracy: 0.9708\n",
            "Epoch 17/25\n",
            "25/25 [==============================] - 0s 3ms/step - loss: 0.0552 - accuracy: 0.9849 - val_loss: 0.0918 - val_accuracy: 0.9649\n",
            "Epoch 18/25\n",
            "25/25 [==============================] - 0s 3ms/step - loss: 0.0530 - accuracy: 0.9899 - val_loss: 0.0926 - val_accuracy: 0.9649\n",
            "Epoch 19/25\n",
            "25/25 [==============================] - 0s 3ms/step - loss: 0.0518 - accuracy: 0.9899 - val_loss: 0.0926 - val_accuracy: 0.9649\n",
            "Epoch 20/25\n",
            "25/25 [==============================] - 0s 3ms/step - loss: 0.0528 - accuracy: 0.9874 - val_loss: 0.0945 - val_accuracy: 0.9649\n",
            "Epoch 21/25\n",
            "25/25 [==============================] - 0s 3ms/step - loss: 0.0498 - accuracy: 0.9925 - val_loss: 0.0932 - val_accuracy: 0.9649\n",
            "Epoch 22/25\n",
            "25/25 [==============================] - 0s 3ms/step - loss: 0.0489 - accuracy: 0.9925 - val_loss: 0.0955 - val_accuracy: 0.9649\n",
            "Epoch 23/25\n",
            "25/25 [==============================] - 0s 3ms/step - loss: 0.0480 - accuracy: 0.9925 - val_loss: 0.0945 - val_accuracy: 0.9649\n",
            "Epoch 24/25\n",
            "25/25 [==============================] - 0s 3ms/step - loss: 0.0474 - accuracy: 0.9925 - val_loss: 0.0958 - val_accuracy: 0.9649\n",
            "Epoch 25/25\n",
            "25/25 [==============================] - 0s 3ms/step - loss: 0.0460 - accuracy: 0.9925 - val_loss: 0.0970 - val_accuracy: 0.9649\n"
          ]
        }
      ]
    },
    {
      "cell_type": "code",
      "source": [
        "print(\"Train score:\", model.evaluate(X_train, y_train))\n",
        "print(\"Test score:\", model.evaluate(X_test, y_test))"
      ],
      "metadata": {
        "colab": {
          "base_uri": "https://localhost:8080/"
        },
        "id": "3VASX2SKF6Qk",
        "outputId": "87868345-1c7a-43d1-d9be-7ca1a357ee2e"
      },
      "execution_count": null,
      "outputs": [
        {
          "output_type": "stream",
          "name": "stdout",
          "text": [
            "13/13 [==============================] - 0s 3ms/step - loss: 0.0449 - accuracy: 0.9925\n",
            "Train score: [0.04492247477173805, 0.9924623370170593]\n",
            "6/6 [==============================] - 0s 7ms/step - loss: 0.0970 - accuracy: 0.9649\n",
            "Test score: [0.09696651250123978, 0.9649122953414917]\n"
          ]
        }
      ]
    },
    {
      "cell_type": "code",
      "source": [
        "plt.plot(history.history['loss'], label='loss')\n",
        "plt.plot(history.history['val_loss'], label='val_loss')\n",
        "plt.legend()\n",
        "plt.show()"
      ],
      "metadata": {
        "id": "C7cNK9BrGEsj",
        "outputId": "69159b50-f437-45de-d2b9-a2aa5c2e5996",
        "colab": {
          "base_uri": "https://localhost:8080/"
        }
      },
      "execution_count": null,
      "outputs": [
        {
          "output_type": "display_data",
          "data": {
            "text/plain": [
              "<Figure size 432x288 with 1 Axes>"
            ],
            "image/png": "[encoded data removed]"
          },
          "metadata": {
            "needs_background": "light"
          }
        }
      ]
    }
  ]
}